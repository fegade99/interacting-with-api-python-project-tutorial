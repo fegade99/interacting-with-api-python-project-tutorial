{
 "cells": [
  {
   "cell_type": "code",
   "execution_count": 1,
   "metadata": {},
   "outputs": [
    {
     "name": "stdout",
     "output_type": "stream",
     "text": [
      "Defaulting to user installation because normal site-packages is not writeable\n",
      "Requirement already satisfied: spotipy in /home/vscode/.local/lib/python3.11/site-packages (2.23.0)\n",
      "Requirement already satisfied: redis>=3.5.3 in /home/vscode/.local/lib/python3.11/site-packages (from spotipy) (5.2.1)\n",
      "Requirement already satisfied: requests>=2.25.0 in /home/vscode/.local/lib/python3.11/site-packages (from spotipy) (2.32.3)\n",
      "Requirement already satisfied: six>=1.15.0 in /home/vscode/.local/lib/python3.11/site-packages (from spotipy) (1.17.0)\n",
      "Requirement already satisfied: urllib3>=1.26.0 in /home/vscode/.local/lib/python3.11/site-packages (from spotipy) (1.26.20)\n",
      "Requirement already satisfied: charset-normalizer<4,>=2 in /home/vscode/.local/lib/python3.11/site-packages (from requests>=2.25.0->spotipy) (2.0.12)\n",
      "Requirement already satisfied: idna<4,>=2.5 in /home/vscode/.local/lib/python3.11/site-packages (from requests>=2.25.0->spotipy) (3.10)\n",
      "Requirement already satisfied: certifi>=2017.4.17 in /home/vscode/.local/lib/python3.11/site-packages (from requests>=2.25.0->spotipy) (2025.1.31)\n"
     ]
    }
   ],
   "source": [
    "! pip install spotipy"
   ]
  },
  {
   "cell_type": "markdown",
   "metadata": {},
   "source": [
    "Step 3: Environment variables & Step 4: Initialize Spotipy library"
   ]
  },
  {
   "cell_type": "code",
   "execution_count": 6,
   "metadata": {},
   "outputs": [],
   "source": [
    "import os\n",
    "from dotenv import load_dotenv\n",
    "import spotipy\n",
    "from spotipy.oauth2 import SpotifyClientCredentials\n",
    "\n",
    "load_dotenv()\n",
    "\n",
    "client_credentials_manager = SpotifyClientCredentials(\n",
    "    client_id = os.environ.get(\"CLIENT_ID\"),\n",
    "    client_secret = os.environ.get(\"CLIENT_SECRET\")\n",
    "    )\n",
    "\n",
    "sp = spotipy.Spotify(client_credentials_manager = client_credentials_manager)"
   ]
  },
  {
   "cell_type": "markdown",
   "metadata": {},
   "source": [
    "Step 5: Make API requests"
   ]
  },
  {
   "cell_type": "code",
   "execution_count": 7,
   "metadata": {},
   "outputs": [
    {
     "name": "stdout",
     "output_type": "stream",
     "text": [
      "track    : The Sound of Silence - CYRIL Remix\n",
      "audio    :  3:05\n",
      "popularity: 80\n",
      "\n",
      "track    : Down with the Sickness\n",
      "audio    :  4:39\n",
      "popularity: 75\n",
      "\n",
      "track    : The Sound of Silence\n",
      "audio    :  4:08\n",
      "popularity: 73\n",
      "\n",
      "track    : Stricken\n",
      "audio    :  4:05\n",
      "popularity: 72\n",
      "\n",
      "track    : Indestructible\n",
      "audio    :  4:38\n",
      "popularity: 66\n",
      "\n",
      "track    : The Vengeful One\n",
      "audio    :  4:12\n",
      "popularity: 62\n",
      "\n",
      "track    : Inside the Fire\n",
      "audio    :  3:51\n",
      "popularity: 63\n",
      "\n",
      "track    : Decadence\n",
      "audio    :  3:24\n",
      "popularity: 63\n",
      "\n",
      "track    : Ten Thousand Fists\n",
      "audio    :  3:32\n",
      "popularity: 60\n",
      "\n",
      "track    : Land of Confusion\n",
      "audio    :  4:47\n",
      "popularity: 60\n",
      "\n"
     ]
    }
   ],
   "source": [
    "\n",
    "result = sp.artist_top_tracks('spotify:artist:3TOqt5oJwL9BE2NG9MEwDa')\n",
    "\n",
    "if result:\n",
    "\n",
    "    data_list = []\n",
    "    for track in result['tracks'][:10]:\n",
    "        print('track    : ' + track['name'])\n",
    "        minutes = track['duration_ms'] // 60000\n",
    "        seconds = track['duration_ms'] % 60000 // 1000\n",
    "        print(f'audio    :  {minutes}:{seconds:02d}') \n",
    "        print('popularity: ' + str(track['popularity']))\n",
    "        print()\n",
    "        \n",
    "        data_list.append({\n",
    "            'Name' : track['name'],\n",
    "            'Duration_ms' : (track['duration_ms']/(1000*60)%60),\n",
    "            'Popularity' : track['popularity']\n",
    "        })"
   ]
  },
  {
   "cell_type": "markdown",
   "metadata": {},
   "source": [
    "Step 6: Transform to Pandas DataFrame"
   ]
  },
  {
   "cell_type": "code",
   "execution_count": 8,
   "metadata": {},
   "outputs": [
    {
     "name": "stdout",
     "output_type": "stream",
     "text": [
      "                                 Name  Duration_ms  Popularity\n",
      "0  The Sound of Silence - CYRIL Remix      3.08730          80\n",
      "1              Down with the Sickness      4.65355          75\n",
      "2                The Sound of Silence      4.14110          73\n"
     ]
    }
   ],
   "source": [
    "import pandas as pd # This import throws an error I can't solve at the moment.\n",
    "# To complete the exercise I've done it in app.py and executed it in an interactive window to show the scatter plot.\n",
    "\n",
    "df = pd.DataFrame(data_list, columns = [\"Name\", \"Duration_ms\", \"Popularity\"])\n",
    "\n",
    "df = df.sort_values(\"Popularity\", ascending = False)\n",
    "print(df.head(3))"
   ]
  },
  {
   "cell_type": "markdown",
   "metadata": {},
   "source": [
    "Step 7: Analyze statistical relationship"
   ]
  },
  {
   "cell_type": "code",
   "execution_count": null,
   "metadata": {},
   "outputs": [
    {
     "data": {
      "image/png": "[encoded data removed]",
      "text/plain": [
       "<Figure size 640x480 with 1 Axes>"
      ]
     },
     "metadata": {},
     "output_type": "display_data"
    }
   ],
   "source": [
    "import seaborn as sns\n",
    "\n",
    "scatter_plot = sns.scatterplot(x = df['Duration_ms'], y = df['Popularity'], color = 'blue')\n",
    "\n"
   ]
  },
  {
   "cell_type": "markdown",
   "metadata": {},
   "source": [
    "Conclusion: As shown in the scatter plot, there's no relation between the duration of the song and the popularity of it"
   ]
  }
 ],
 "metadata": {
  "kernelspec": {
   "display_name": "Python 3",
   "language": "python",
   "name": "python3"
  },
  "language_info": {
   "codemirror_mode": {
    "name": "ipython",
    "version": 3
   },
   "file_extension": ".py",
   "mimetype": "text/x-python",
   "name": "python",
   "nbconvert_exporter": "python",
   "pygments_lexer": "ipython3",
   "version": "3.11.4"
  }
 },
 "nbformat": 4,
 "nbformat_minor": 2
}
